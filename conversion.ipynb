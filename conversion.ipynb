{
 "cells": [
  {
   "cell_type": "code",
   "execution_count": 1,
   "metadata": {},
   "outputs": [],
   "source": [
    "# taken from https://github.com/nilsec/micron/blob/0f0807d1f45e398ea04e04e7f7cdeafd1a0dab8d/micron/post/analyse_graph.py#L288-L326\n",
    "import operator\n",
    "\n",
    "def interpolate_on_grid(z0, y0, x0, z1, y1, x1, voxel_size):\n",
    "    \"\"\"\n",
    "    Interpolate a line on a 3D voxel grid.\n",
    "    x0, y0, ... (int, physical space e.g. nm):\n",
    "    returns: list of voxels forming a line from p0 to p1\n",
    "    \"\"\"\n",
    "    def dda_round(x):\n",
    "        return (x + 0.5).astype(int)\n",
    "\n",
    "\n",
    "    start = np.array([z0, y0, x0], dtype=float)\n",
    "    end = np.array([z1, y1, x1], dtype=float)\n",
    "\n",
    "    voxel_size = np.array(voxel_size)\n",
    "    if np.any(start % voxel_size) or np.any(end % voxel_size):\n",
    "        print(start%voxel_size, end%voxel_size)\n",
    "        raise ValueError(\"Start end end position must be multiples of voxel size\")\n",
    "\n",
    "    line = [dda_round(start / voxel_size)]\n",
    "\n",
    "    if not np.any(start - end):\n",
    "        return line\n",
    "\n",
    "    max_direction, max_length = max(enumerate(abs(end - start)),\n",
    "                                              key=operator.itemgetter(1))\n",
    "\n",
    "    dv = (end - start) / max_length\n",
    "\n",
    "    # We interpolate in physical space to find the shortest distance\n",
    "    # linear interpolation but the path is represented in voxels\n",
    "    for step in range(int(max_length)):\n",
    "        step_point_rescaled = np.array(dda_round(dda_round((step + 1) * dv + start)/voxel_size))\n",
    "        if not np.all(step_point_rescaled == line[-1]):\n",
    "            line.append(step_point_rescaled)\n",
    "\n",
    "    assert(np.all(line[-1] == dda_round(end/voxel_size)))\n",
    "    return line\n",
    "\n",
    "# from /nrs/funke/ecksteinn/nils_data/cosem_data/cosem_runs/full_cell/cosem_hela_2_full/00_data/exports/read_nml.py\n",
    "from xml.dom import minidom\n",
    "import numpy as np\n",
    "\n",
    "def parse_nml(filename, edge_attribute=None):\n",
    "    doc = minidom.parse(filename)\n",
    "    annotations = doc.getElementsByTagName(\"thing\")\n",
    "\n",
    "    annotation_edge_dict = {}\n",
    "    node_dic = {}\n",
    "    edge_list = []\n",
    "    for annotation in annotations:\n",
    "        current_edge_list = []\n",
    "        nodes = annotation.getElementsByTagName(\"node\")\n",
    "        for node in nodes:\n",
    "            node_position, node_id = parse_node(node) \n",
    "            node_dic[node_id] = node_position\n",
    "\n",
    "        edges = annotation.getElementsByTagName(\"edge\")\n",
    "\n",
    "        for edge in edges:\n",
    "            (source_id, target_id) = parse_attributes(edge, [[\"source\", int], [\"target\", int]])\n",
    "            edge_list.append((source_id, target_id))\n",
    "            current_edge_list.append((source_id, target_id))\n",
    "        \n",
    "        annotation_id = parse_attributes(annotation,[[\"id\", int]])[0]\n",
    "        annotation_edge_dict[annotation_id] = current_edge_list\n",
    "\n",
    "    return node_dic, edge_list, annotation_edge_dict\n",
    "\n",
    "\n",
    "def parse_node(node):\n",
    "    [x, y, z, id_] =\\\n",
    "        parse_attributes(node,\n",
    "                        [\n",
    "                            [\"x\", float],\n",
    "                            [\"y\", float],\n",
    "                            [\"z\", float],\n",
    "                            [\"id\", int],\n",
    "                        ]\n",
    "                        )\n",
    "\n",
    "    point = np.array([z, y, x])\n",
    "\n",
    "    return point, id_\n",
    "\n",
    "def parse_edge(edge):\n",
    "    [source, target] =\\\n",
    "        parse_attributes(edge,\n",
    "                         [\n",
    "                             [\"source\", int],\n",
    "                             [\"target\", int]\n",
    "                             \n",
    "                         ]\n",
    "                         )\n",
    "\n",
    "    return source, target\n",
    "\n",
    "\n",
    "def parse_attributes(xml_elem, parse_input):\n",
    "    parse_output = []\n",
    "    attributes = xml_elem.attributes\n",
    "    for x in parse_input:\n",
    "        try:\n",
    "            parse_output.append(x[1](attributes[x[0]].value))\n",
    "        except KeyError:\n",
    "            parse_output.append(None)\n",
    "    return parse_output"
   ]
  },
  {
   "cell_type": "code",
   "execution_count": 2,
   "metadata": {},
   "outputs": [
    {
     "name": "stdout",
     "output_type": "stream",
     "text": [
      "39\n"
     ]
    }
   ],
   "source": [
    "node_dic, edge_list, annotation_edge_dict = parse_nml(\"/groups/cellmap/cellmap/jonesa/trackmate/fordavid/mt_updated.nml\", edge_attribute=None)\n",
    "s = (1850,1500,2500)\n",
    "print(max(annotation_edge_dict.keys()))\n",
    "output = np.zeros(s,dtype=np.uint8)\n",
    "max_x,max_y,max_z = 0,0,0\n",
    "for id,edge_list in annotation_edge_dict.items():\n",
    "    for edge in edge_list:\n",
    "        coords = interpolate_on_grid(*node_dic[edge[0]],*node_dic[edge[1]],1)\n",
    "        for coord in coords:\n",
    "            output[coord[0]][coord[1]][coord[2]] = id\n",
    "\n",
    "\n",
    "    "
   ]
  },
  {
   "cell_type": "code",
   "execution_count": null,
   "metadata": {},
   "outputs": [],
   "source": []
  },
  {
   "cell_type": "code",
   "execution_count": 5,
   "metadata": {},
   "outputs": [],
   "source": [
    "import zarr\n",
    "from numcodecs.gzip import GZip\n",
    "store = zarr.N5Store(\"/nrs/cellmap/ackermand/vimentin/convert-knossos-skeletons.n5\")\n",
    "zarr_root = zarr.group(store=store)\n",
    "ds = zarr_root.create_dataset(\n",
    "            name=\"mt_centerAxis\",\n",
    "            data=output,\n",
    "            shape=output.shape,\n",
    "            chunks=128,\n",
    "            write_empty_chunks=True,\n",
    "            compressor=GZip(level=6),\n",
    "        )\n",
    "attributes = ds.attrs\n",
    "attributes[\"pixelResolution\"] = {\n",
    "    \"dimensions\": 3 * [2],\n",
    "    \"unit\": \"nm\",\n",
    "}\n",
    "attributes[\"offsets\"] = [8600, 4400, 0] #nm"
   ]
  },
  {
   "cell_type": "code",
   "execution_count": 82,
   "metadata": {},
   "outputs": [
    {
     "data": {
      "text/plain": [
       "255"
      ]
     },
     "execution_count": 82,
     "metadata": {},
     "output_type": "execute_result"
    }
   ],
   "source": [
    "np.amax(output)"
   ]
  },
  {
   "cell_type": "code",
   "execution_count": null,
   "metadata": {},
   "outputs": [],
   "source": []
  }
 ],
 "metadata": {
  "kernelspec": {
   "display_name": "Python 3.9.12 ('convert-knossos-skeletons')",
   "language": "python",
   "name": "python3"
  },
  "language_info": {
   "codemirror_mode": {
    "name": "ipython",
    "version": 3
   },
   "file_extension": ".py",
   "mimetype": "text/x-python",
   "name": "python",
   "nbconvert_exporter": "python",
   "pygments_lexer": "ipython3",
   "version": "3.9.12"
  },
  "orig_nbformat": 4,
  "vscode": {
   "interpreter": {
    "hash": "61b3655671ff74d4901395c2c5d9095fa46bdb3fcc31ea3a1a4e9dc45456b96c"
   }
  }
 },
 "nbformat": 4,
 "nbformat_minor": 2
}
